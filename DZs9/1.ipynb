{
 "cells": [
  {
   "cell_type": "code",
   "execution_count": 1,
   "metadata": {},
   "outputs": [
    {
     "name": "stdout",
     "output_type": "stream",
     "text": [
      "   whoAmI\n",
      "0   robot\n",
      "1   robot\n",
      "2   robot\n",
      "3   robot\n",
      "4   human\n",
      "5   human\n",
      "6   human\n",
      "7   robot\n",
      "8   human\n",
      "9   robot\n",
      "10  human\n",
      "11  robot\n",
      "12  robot\n",
      "13  robot\n",
      "14  human\n",
      "15  human\n",
      "16  human\n",
      "17  robot\n",
      "18  human\n",
      "19  human\n"
     ]
    }
   ],
   "source": [
    "import pandas as pd\n",
    "import random\n",
    "lst = ['robot'] * 10\n",
    "lst += ['human'] * 10\n",
    "data1 = ['whoAmI']\n",
    "random.shuffle(lst)\n",
    "\n",
    "data = pd.DataFrame(data = lst,columns = data1)\n",
    "data.head()\n",
    "print(data)\n",
    "\n"
   ]
  },
  {
   "cell_type": "code",
   "execution_count": 2,
   "metadata": {},
   "outputs": [
    {
     "name": "stdout",
     "output_type": "stream",
     "text": [
      "    human  robot\n",
      "0       0      1\n",
      "1       0      1\n",
      "2       0      1\n",
      "3       0      1\n",
      "4       1      0\n",
      "5       1      0\n",
      "6       1      0\n",
      "7       0      1\n",
      "8       1      0\n",
      "9       0      1\n",
      "10      1      0\n",
      "11      0      1\n",
      "12      0      1\n",
      "13      0      1\n",
      "14      1      0\n",
      "15      1      0\n",
      "16      1      0\n",
      "17      0      1\n",
      "18      1      0\n",
      "19      1      0\n"
     ]
    }
   ],
   "source": [
    "import numpy as np\n",
    "data['tmp'] = 1\n",
    "data.set_index([data.index, 'whoAmI'], inplace=True)\n",
    "data = data.unstack(level=-1, fill_value = 0).astype(int)\n",
    "data.columns = data.columns.droplevel()\n",
    "data.columns.name = None\n",
    "print(data)"
   ]
  }
 ],
 "metadata": {
  "kernelspec": {
   "display_name": "Python 3",
   "language": "python",
   "name": "python3"
  },
  "language_info": {
   "codemirror_mode": {
    "name": "ipython",
    "version": 3
   },
   "file_extension": ".py",
   "mimetype": "text/x-python",
   "name": "python",
   "nbconvert_exporter": "python",
   "pygments_lexer": "ipython3",
   "version": "3.11.4"
  },
  "orig_nbformat": 4
 },
 "nbformat": 4,
 "nbformat_minor": 2
}
